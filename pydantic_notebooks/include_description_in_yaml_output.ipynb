{
 "cells": [
  {
   "cell_type": "markdown",
   "source": [
    "# Description"
   ],
   "metadata": {
    "collapsed": false
   },
   "id": "f3db120eadb6bd8d"
  },
  {
   "cell_type": "markdown",
   "source": [
    "This code defines a Pydantic model and provides methods to convert the model to YAML format,\n",
    "including field descriptions as comments, and to load the model from a YAML file."
   ],
   "metadata": {
    "collapsed": false
   },
   "id": "267893f11231ff1a"
  },
  {
   "cell_type": "code",
   "outputs": [],
   "source": [
    "from pydantic import BaseModel, Field\n",
    "import json\n",
    "import yaml\n",
    "\n",
    "class MyModel(BaseModel):\n",
    "    name: str = Field(description=\"The name of the item\")\n",
    "    count: int = Field(description=\"Number of items\")\n",
    "    active: bool = Field(description=\"Whether the item is active\")\n",
    "    \n",
    "    def get_descriptions(self) -> dict:\n",
    "        schema = self.model_json_schema()\n",
    "        return {field: field_info.get('description', '') for field, field_info in schema[\"properties\"].items()}\n",
    "    \n",
    "    def to_yaml(self):\n",
    "        # Get the model's JSON schema\n",
    "        return json.loads(self.model_dump_json())\n",
    "    \n",
    "    def to_yaml_file(self, file_path):\n",
    "        # Convert to YAML\n",
    "        output = self.to_yaml()\n",
    "        descriptions = self.get_descriptions()\n",
    "        \n",
    "        # Write to file with descriptions as a block comment at the top\n",
    "        with open(file_path, 'w') as file: \n",
    "            for key, value in output.items():\n",
    "                if key in descriptions:\n",
    "                    file.write(f\"# {key}: {descriptions[key]}\\n\")\n",
    "            \n",
    "            # then write out full object\n",
    "            yaml.dump(output, file, sort_keys=False)\n",
    "    \n",
    "    @classmethod\n",
    "    def from_yaml(cls, yaml_str):\n",
    "        data = yaml.safe_load(yaml_str)\n",
    "        return cls(**data)\n",
    "    \n",
    "    @classmethod\n",
    "    def from_yaml_file(cls, file_path):\n",
    "        with open(file_path, 'r') as file:\n",
    "            return cls.from_yaml(file.read())"
   ],
   "metadata": {
    "collapsed": false,
    "ExecuteTime": {
     "end_time": "2025-03-14T16:43:35.209795Z",
     "start_time": "2025-03-14T16:43:34.971560Z"
    }
   },
   "id": "e3928bed4bf26c15",
   "execution_count": 1
  },
  {
   "cell_type": "code",
   "outputs": [
    {
     "name": "stdout",
     "output_type": "stream",
     "text": [
      "name='test' count=5 active=True\n"
     ]
    }
   ],
   "source": [
    "# Example usage\n",
    "item = MyModel(name=\"test\", count=5, active=True)\n",
    "print(item)"
   ],
   "metadata": {
    "collapsed": false,
    "ExecuteTime": {
     "end_time": "2025-03-14T16:43:35.487378Z",
     "start_time": "2025-03-14T16:43:35.482608Z"
    }
   },
   "id": "96ff33dfe26694d7",
   "execution_count": 2
  },
  {
   "cell_type": "code",
   "outputs": [
    {
     "name": "stdout",
     "output_type": "stream",
     "text": [
      "{'name': 'test', 'count': 5, 'active': True}\n"
     ]
    }
   ],
   "source": [
    "print(item.to_yaml())\n",
    "item.to_yaml_file('output.yaml')"
   ],
   "metadata": {
    "collapsed": false,
    "ExecuteTime": {
     "end_time": "2025-03-14T16:43:35.751676Z",
     "start_time": "2025-03-14T16:43:35.739856Z"
    }
   },
   "id": "63b70860ada128a2",
   "execution_count": 3
  },
  {
   "cell_type": "code",
   "outputs": [],
   "source": [
    "loaded = MyModel.from_yaml_file('output.yaml')"
   ],
   "metadata": {
    "collapsed": false,
    "ExecuteTime": {
     "end_time": "2025-03-14T16:43:36.088973Z",
     "start_time": "2025-03-14T16:43:36.042021Z"
    }
   },
   "id": "dacbb4e4997559e8",
   "execution_count": 4
  },
  {
   "cell_type": "code",
   "outputs": [
    {
     "data": {
      "text/plain": "True"
     },
     "execution_count": 5,
     "metadata": {},
     "output_type": "execute_result"
    }
   ],
   "source": [
    "loaded == item  # Should be True if loaded correctly"
   ],
   "metadata": {
    "collapsed": false,
    "ExecuteTime": {
     "end_time": "2025-03-14T16:43:36.265334Z",
     "start_time": "2025-03-14T16:43:36.256017Z"
    }
   },
   "id": "39d4b642ec2a8c89",
   "execution_count": 5
  },
  {
   "cell_type": "markdown",
   "source": [
    "# show what file looks like"
   ],
   "metadata": {
    "collapsed": false
   },
   "id": "71d8b91c4092e4b9"
  },
  {
   "cell_type": "code",
   "outputs": [
    {
     "name": "stdout",
     "output_type": "stream",
     "text": [
      "# name: The name of the item\n",
      "# count: Number of items\n",
      "# active: Whether the item is active\n",
      "name: test\n",
      "count: 5\n",
      "active: true\n"
     ]
    }
   ],
   "source": [
    "with open('output.yaml', 'r') as file:\n",
    "    print(file.read())"
   ],
   "metadata": {
    "collapsed": false,
    "ExecuteTime": {
     "end_time": "2025-03-14T16:43:37.286208Z",
     "start_time": "2025-03-14T16:43:37.275190Z"
    }
   },
   "id": "fa6f6524b744e8a8",
   "execution_count": 6
  },
  {
   "cell_type": "markdown",
   "source": [
    "# load with normal yaml"
   ],
   "metadata": {
    "collapsed": false
   },
   "id": "3e2e2adbaa6699d2"
  },
  {
   "cell_type": "code",
   "outputs": [],
   "source": [
    "with open('output.yaml', 'r') as file:\n",
    "    loaded = yaml.safe_load(file)"
   ],
   "metadata": {
    "collapsed": false,
    "ExecuteTime": {
     "end_time": "2025-03-14T16:43:38.180171Z",
     "start_time": "2025-03-14T16:43:38.174267Z"
    }
   },
   "id": "bf9ec9f20d384083",
   "execution_count": 7
  },
  {
   "cell_type": "code",
   "outputs": [
    {
     "data": {
      "text/plain": "{'name': 'test', 'count': 5, 'active': True}"
     },
     "execution_count": 8,
     "metadata": {},
     "output_type": "execute_result"
    }
   ],
   "source": [
    "loaded"
   ],
   "metadata": {
    "collapsed": false,
    "ExecuteTime": {
     "end_time": "2025-03-14T16:43:38.747155Z",
     "start_time": "2025-03-14T16:43:38.743239Z"
    }
   },
   "id": "b7f606995867ed97",
   "execution_count": 8
  }
 ],
 "metadata": {
  "kernelspec": {
   "display_name": "Python 3",
   "language": "python",
   "name": "python3"
  },
  "language_info": {
   "codemirror_mode": {
    "name": "ipython",
    "version": 2
   },
   "file_extension": ".py",
   "mimetype": "text/x-python",
   "name": "python",
   "nbconvert_exporter": "python",
   "pygments_lexer": "ipython2",
   "version": "2.7.6"
  }
 },
 "nbformat": 4,
 "nbformat_minor": 5
}
