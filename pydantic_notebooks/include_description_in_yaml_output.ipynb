{
 "cells": [
  {
   "cell_type": "code",
   "outputs": [],
   "source": [
    "# This code defines a Pydantic model and provides methods to convert the model to YAML format,\n",
    "# including field descriptions as comments, and to load the model from a YAML file."
   ],
   "metadata": {
    "collapsed": false
   },
   "id": "b04326c512926064"
  },
  {
   "cell_type": "code",
   "outputs": [],
   "source": [
    "from pydantic import BaseModel, Field\n",
    "import yaml\n",
    "\n",
    "class MyModel(BaseModel):\n",
    "    name: str = Field(description=\"The name of the item\")\n",
    "    count: int = Field(description=\"Number of items\")\n",
    "    active: bool = Field(description=\"Whether the item is active\")\n",
    "    \n",
    "    def to_yaml(self):\n",
    "        # Get the model's JSON schema, which includes field descriptions\n",
    "        schema = self.model_json_schema()\n",
    "        \n",
    "        # Create a dictionary with values and their descriptions\n",
    "        output = {}\n",
    "        for field_name, field_value in self.model_dump().items():\n",
    "            field_info = schema[\"properties\"].get(field_name, {})\n",
    "            description = field_info.get(\"description\", \"\")\n",
    "            \n",
    "            # Add to output with description as a comment\n",
    "            if description:\n",
    "                output[f\"{field_name} # {description}\"] = field_value\n",
    "            else:\n",
    "                output[field_name] = field_value\n",
    "        \n",
    "        # Convert to YAML\n",
    "        return yaml.dump(output, sort_keys=False)\n",
    "    \n",
    "    def to_yaml_file(self, file_path):\n",
    "        with open(file_path, 'w') as file:\n",
    "            file.write(self.to_yaml())\n",
    "    \n",
    "    @classmethod\n",
    "    def from_yaml(cls, yaml_str):\n",
    "        data = yaml.safe_load(yaml_str)\n",
    "        # Remove comments (if any) from the keys\n",
    "        data = {k.split(' # ')[0]: v for k, v in data.items()}\n",
    "        return cls(**data)\n",
    "    \n",
    "    @classmethod\n",
    "    def from_yaml_file(cls, file_path):\n",
    "        with open(file_path, 'r') as file:\n",
    "            return cls.from_yaml(file.read())"
   ],
   "metadata": {
    "collapsed": false
   },
   "id": "e3928bed4bf26c15",
   "execution_count": null
  },
  {
   "cell_type": "code",
   "outputs": [],
   "source": [
    "# Example usage\n",
    "item = MyModel(name=\"test\", count=5, active=True)\n",
    "print(item)\n",
    "print(item.to_yaml())\n",
    "item.to_yaml_file('output.yaml')\n",
    "loaded = MyModel.from_yaml_file('output.yaml')"
   ],
   "metadata": {
    "collapsed": false
   },
   "id": "63b70860ada128a2",
   "execution_count": null
  },
  {
   "cell_type": "code",
   "outputs": [],
   "source": [
    "assert loaded == item"
   ],
   "metadata": {
    "collapsed": false
   },
   "id": "39d4b642ec2a8c89",
   "execution_count": null
  }
 ],
 "metadata": {
  "kernelspec": {
   "display_name": "Python 3",
   "language": "python",
   "name": "python3"
  },
  "language_info": {
   "codemirror_mode": {
    "name": "ipython",
    "version": 2
   },
   "file_extension": ".py",
   "mimetype": "text/x-python",
   "name": "python",
   "nbconvert_exporter": "python",
   "pygments_lexer": "ipython2",
   "version": "2.7.6"
  }
 },
 "nbformat": 4,
 "nbformat_minor": 5
}
